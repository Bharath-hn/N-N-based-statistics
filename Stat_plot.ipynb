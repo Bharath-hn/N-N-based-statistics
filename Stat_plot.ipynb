{
 "cells": [
  {
   "cell_type": "code",
   "execution_count": 1,
   "metadata": {},
   "outputs": [],
   "source": [
    "SN = [18, 54, 11101, 11105, 11106, 11107, 11113, 11115, 11116, 11117, 11118, 11123, 11124, 11131, 11135, 11141, 11148, 11149, 11150, 11153,\n",
    "                              11154, 11155, 11164, 11165, 11167, 11169, 11170, 12101, 12105, 12106, 12107, 12113, 12115, 12116, 12117, 12118, 12123, 12124,\n",
    "                              12131, 12135, 12141, 12148, 12149, 12150, 12153, 12154, 12155, 12164, 12165, 12167, 12169, 12170]"
   ]
  },
  {
   "cell_type": "code",
   "execution_count": 2,
   "metadata": {},
   "outputs": [],
   "source": [
    "# from FMRI_GS import Network_BS"
   ]
  },
  {
   "cell_type": "code",
   "execution_count": 3,
   "metadata": {},
   "outputs": [],
   "source": [
    "# Network_BS('Kvalme_FBN_aseg_2009_TR_2890_BL_MI', SN)"
   ]
  },
  {
   "cell_type": "code",
   "execution_count": 4,
   "metadata": {},
   "outputs": [],
   "source": [
    "from FMRI_GS import Node_BS"
   ]
  },
  {
   "cell_type": "code",
   "execution_count": 5,
   "metadata": {},
   "outputs": [
    {
     "data": {
      "application/vnd.jupyter.widget-view+json": {
       "model_id": "ad19091fb87f435fbdf9b16916750076",
       "version_major": 2,
       "version_minor": 0
      },
      "text/plain": [
       "interactive(children=(BoundedFloatText(value=0.1478396884469566, description='Cut-off:', max=0.298262497123351…"
      ]
     },
     "metadata": {},
     "output_type": "display_data"
    },
    {
     "data": {
      "text/plain": [
       "<function FMRI_GS.get_significant_node(cut_off, p_cut)>"
      ]
     },
     "metadata": {},
     "output_type": "display_data"
    }
   ],
   "source": [
    "Node_BS('Kvalme_FBN_aseg_2009_TR_2890_BL_MI', SN)"
   ]
  },
  {
   "cell_type": "code",
   "execution_count": null,
   "metadata": {},
   "outputs": [],
   "source": []
  }
 ],
 "metadata": {
  "kernelspec": {
   "display_name": "Python 3 (ipykernel)",
   "language": "python",
   "name": "python3"
  },
  "language_info": {
   "codemirror_mode": {
    "name": "ipython",
    "version": 3
   },
   "file_extension": ".py",
   "mimetype": "text/x-python",
   "name": "python",
   "nbconvert_exporter": "python",
   "pygments_lexer": "ipython3",
   "version": "3.7.4"
  }
 },
 "nbformat": 4,
 "nbformat_minor": 4
}
