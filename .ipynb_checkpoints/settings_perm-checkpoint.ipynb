{
 "cells": [
  {
   "cell_type": "code",
   "execution_count": 1,
   "id": "d03cd4c6-ceaf-4ad9-b420-b166d24d3c0d",
   "metadata": {},
   "outputs": [],
   "source": [
    "from UI_functions import MeasureFileName_SubsColName, Measure_selection_UI,Measure_type_UI,Remaining_settings_UI,parallel_NoPerm_UI\n",
    "from Perm_GS import run_all_comb_stats\n",
    "import time"
   ]
  },
  {
   "cell_type": "code",
   "execution_count": 2,
   "id": "a33637bc-d86a-4fb7-b636-9a0c745061fe",
   "metadata": {},
   "outputs": [
    {
     "ename": "NameError",
     "evalue": "name 'stop' is not defined",
     "output_type": "error",
     "traceback": [
      "\u001b[1;31m---------------------------------------------------------------------------\u001b[0m",
      "\u001b[1;31mNameError\u001b[0m                                 Traceback (most recent call last)",
      "\u001b[1;32m~\\AppData\\Local\\Temp\\ipykernel_10884\\3957423419.py\u001b[0m in \u001b[0;36m<module>\u001b[1;34m\u001b[0m\n\u001b[1;32m----> 1\u001b[1;33m \u001b[0mstop\u001b[0m\u001b[1;33m\u001b[0m\u001b[1;33m\u001b[0m\u001b[0m\n\u001b[0m",
      "\u001b[1;31mNameError\u001b[0m: name 'stop' is not defined"
     ]
    }
   ],
   "source": [
    "stop"
   ]
  },
  {
   "cell_type": "code",
   "execution_count": 3,
   "id": "bf2c40db-73d6-4e1a-a300-61157ec88dfd",
   "metadata": {},
   "outputs": [],
   "source": [
    "global settings_dict"
   ]
  },
  {
   "cell_type": "code",
   "execution_count": 4,
   "id": "84bcdf3c-d770-432a-81c2-5f76c4240fcf",
   "metadata": {},
   "outputs": [
    {
     "data": {
      "application/vnd.jupyter.widget-view+json": {
       "model_id": "5c40134b45b640cfbfb88af3fa9a65ae",
       "version_major": 2,
       "version_minor": 0
      },
      "text/plain": [
       "interactive(children=(Text(value='BRIEF_12week.csv', description='File Name', layout=Layout(width='500px')), T…"
      ]
     },
     "metadata": {},
     "output_type": "display_data"
    },
    {
     "data": {
      "text/plain": [
       "<function UI_functions.MeasureFileName_SubsColName_callback(FN, SCN)>"
      ]
     },
     "metadata": {},
     "output_type": "display_data"
    }
   ],
   "source": [
    "settings_dict = MeasureFileName_SubsColName()"
   ]
  },
  {
   "cell_type": "code",
   "execution_count": 5,
   "id": "fb66bef0-583b-4d38-ad7d-db2117258c2e",
   "metadata": {},
   "outputs": [
    {
     "data": {
      "application/vnd.jupyter.widget-view+json": {
       "model_id": "ef26d6e61cb84f35bd77d2a997a674e5",
       "version_major": 2,
       "version_minor": 0
      },
      "text/plain": [
       "interactive(children=(SelectMultiple(description='Measure List', index=(0,), layout=Layout(height='220px'), op…"
      ]
     },
     "metadata": {},
     "output_type": "display_data"
    },
    {
     "data": {
      "text/plain": [
       "<function UI_functions.selected_measure_list_callback(var_list)>"
      ]
     },
     "metadata": {},
     "output_type": "display_data"
    }
   ],
   "source": [
    "Measure_selection_UI()"
   ]
  },
  {
   "cell_type": "code",
   "execution_count": 6,
   "id": "0e4b33c7-90b6-4521-877d-f8cb77ac7cc9",
   "metadata": {},
   "outputs": [
    {
     "data": {
      "application/vnd.jupyter.widget-view+json": {
       "model_id": "219a52b325ba43f290d93bb3679a1873",
       "version_major": 2,
       "version_minor": 0
      },
      "text/plain": [
       "VBox(children=(ToggleButtons(description='Oppblasthet.etter', options=('Continues', 'Catagorical'), style=Togg…"
      ]
     },
     "metadata": {},
     "output_type": "display_data"
    },
    {
     "data": {
      "application/vnd.jupyter.widget-view+json": {
       "model_id": "9f60ea36f99e4c21b8525f3ef174829f",
       "version_major": 2,
       "version_minor": 0
      },
      "text/plain": [
       "Output()"
      ]
     },
     "metadata": {},
     "output_type": "display_data"
    }
   ],
   "source": [
    "Measure_type_UI()"
   ]
  },
  {
   "cell_type": "code",
   "execution_count": 7,
   "id": "f68e59d4-7750-4388-b4b0-b31d0c6ba9ad",
   "metadata": {},
   "outputs": [
    {
     "data": {
      "application/vnd.jupyter.widget-view+json": {
       "model_id": "43d777c1c333479d8bff1012c63e4691",
       "version_major": 2,
       "version_minor": 0
      },
      "text/plain": [
       "interactive(children=(ToggleButtons(description='Test Type:', options=('Mutual information', 'linear model', '…"
      ]
     },
     "metadata": {},
     "output_type": "display_data"
    },
    {
     "data": {
      "text/plain": [
       "<function UI_functions.Remaining_settings_callback(TT, PT, IT, TRT)>"
      ]
     },
     "metadata": {},
     "output_type": "display_data"
    }
   ],
   "source": [
    "Remaining_settings_UI()"
   ]
  },
  {
   "cell_type": "code",
   "execution_count": 8,
   "id": "de718315-a95a-4232-877e-c1bcb890b886",
   "metadata": {},
   "outputs": [
    {
     "data": {
      "application/vnd.jupyter.widget-view+json": {
       "model_id": "472f59b34e114730a9cc5bb8761e9907",
       "version_major": 2,
       "version_minor": 0
      },
      "text/plain": [
       "interactive(children=(BoundedIntText(value=1, description='Parallel Jobs', max=8, min=1, style=DescriptionStyl…"
      ]
     },
     "metadata": {},
     "output_type": "display_data"
    },
    {
     "data": {
      "text/plain": [
       "<function UI_functions.parallel_NoPerm_callback(No_P_J, No_perm)>"
      ]
     },
     "metadata": {},
     "output_type": "display_data"
    }
   ],
   "source": [
    "parallel_NoPerm_UI()"
   ]
  },
  {
   "cell_type": "code",
   "execution_count": 9,
   "id": "0e35ecab-8436-4105-8992-c0444968ecf3",
   "metadata": {},
   "outputs": [
    {
     "name": "stdout",
     "output_type": "stream",
     "text": [
      "measure_file_name --- VAS_data.csv\n",
      "SubsColName --- Sub_ID\n",
      "test_type --- MI\n",
      "network_type --- FBN_aseg_2009\n",
      "TR_type --- TR_2890\n",
      "session_type --- AL\n",
      "measure_var_list --- ('Oppblasthet.etter',)\n",
      "measure_var_type --- {'Oppblasthet.etter': 'Continues'}\n",
      "No_par_jobs --- 1\n",
      "No_perm --- 5000\n"
     ]
    }
   ],
   "source": [
    "for i in settings_dict:\n",
    "    print(i, '---', settings_dict[i])"
   ]
  },
  {
   "cell_type": "code",
   "execution_count": 11,
   "id": "126922d0-70bb-4a79-8f4e-4cdc77f72115",
   "metadata": {},
   "outputs": [
    {
     "ename": "FileNotFoundError",
     "evalue": "[Errno 2] No such file or directory: 'data/all_sub_average_motion_2890.pickle'",
     "output_type": "error",
     "traceback": [
      "\u001b[1;31m---------------------------------------------------------------------------\u001b[0m",
      "\u001b[1;31mFileNotFoundError\u001b[0m                         Traceback (most recent call last)",
      "\u001b[1;32m~\\AppData\\Local\\Temp\\ipykernel_10884\\3706329900.py\u001b[0m in \u001b[0;36m<module>\u001b[1;34m\u001b[0m\n\u001b[0;32m      1\u001b[0m \u001b[0mstart\u001b[0m \u001b[1;33m=\u001b[0m \u001b[0mtime\u001b[0m\u001b[1;33m.\u001b[0m\u001b[0mtime\u001b[0m\u001b[1;33m(\u001b[0m\u001b[1;33m)\u001b[0m\u001b[1;33m\u001b[0m\u001b[1;33m\u001b[0m\u001b[0m\n\u001b[1;32m----> 2\u001b[1;33m \u001b[0mrun_all_comb_stats\u001b[0m\u001b[1;33m(\u001b[0m\u001b[0msettings_dict\u001b[0m\u001b[1;33m,\u001b[0m \u001b[0msettings_dict\u001b[0m\u001b[1;33m[\u001b[0m\u001b[1;34m'measure_file_name'\u001b[0m\u001b[1;33m]\u001b[0m\u001b[1;33m,\u001b[0m\u001b[0msettings_dict\u001b[0m\u001b[1;33m[\u001b[0m\u001b[1;34m'SubsColName'\u001b[0m\u001b[1;33m]\u001b[0m\u001b[1;33m)\u001b[0m\u001b[1;33m\u001b[0m\u001b[1;33m\u001b[0m\u001b[0m\n\u001b[0m\u001b[0;32m      3\u001b[0m \u001b[0mend\u001b[0m \u001b[1;33m=\u001b[0m \u001b[0mtime\u001b[0m\u001b[1;33m.\u001b[0m\u001b[0mtime\u001b[0m\u001b[1;33m(\u001b[0m\u001b[1;33m)\u001b[0m\u001b[1;33m\u001b[0m\u001b[1;33m\u001b[0m\u001b[0m\n",
      "\u001b[1;32m~\\Documents\\Graph statistics\\Perm_GS.py\u001b[0m in \u001b[0;36mrun_all_comb_stats\u001b[1;34m(settings_dict, no_perm, no_parallel_runs)\u001b[0m\n\u001b[0;32m    189\u001b[0m \u001b[1;33m\u001b[0m\u001b[0m\n\u001b[0;32m    190\u001b[0m     \u001b[1;32mfor\u001b[0m \u001b[0mtypes\u001b[0m \u001b[1;32min\u001b[0m \u001b[0mall_types\u001b[0m\u001b[1;33m:\u001b[0m\u001b[1;33m\u001b[0m\u001b[1;33m\u001b[0m\u001b[0m\n\u001b[1;32m--> 191\u001b[1;33m         \u001b[0mX\u001b[0m\u001b[1;33m,\u001b[0m \u001b[0mixes\u001b[0m\u001b[1;33m,\u001b[0m \u001b[0mcur_sub_ids\u001b[0m\u001b[1;33m,\u001b[0m \u001b[0mdf_to_use\u001b[0m\u001b[1;33m,\u001b[0m \u001b[0mimp_roi\u001b[0m \u001b[1;33m=\u001b[0m \u001b[0mget_necessary_data\u001b[0m\u001b[1;33m(\u001b[0m\u001b[0mtypes\u001b[0m\u001b[1;33m[\u001b[0m\u001b[1;36m0\u001b[0m\u001b[1;33m]\u001b[0m\u001b[1;33m,\u001b[0m\u001b[0mtypes\u001b[0m\u001b[1;33m[\u001b[0m\u001b[1;36m1\u001b[0m\u001b[1;33m]\u001b[0m\u001b[1;33m,\u001b[0m\u001b[0mtypes\u001b[0m\u001b[1;33m[\u001b[0m\u001b[1;36m2\u001b[0m\u001b[1;33m]\u001b[0m\u001b[1;33m,\u001b[0m\u001b[0msettings_dict\u001b[0m\u001b[1;33m[\u001b[0m\u001b[1;34m'measure_file_name'\u001b[0m\u001b[1;33m]\u001b[0m\u001b[1;33m,\u001b[0m\u001b[0msettings_dict\u001b[0m\u001b[1;33m[\u001b[0m\u001b[1;34m'SubsColName'\u001b[0m\u001b[1;33m]\u001b[0m\u001b[1;33m)\u001b[0m\u001b[1;33m\u001b[0m\u001b[1;33m\u001b[0m\u001b[0m\n\u001b[0m\u001b[0;32m    192\u001b[0m \u001b[1;33m\u001b[0m\u001b[0m\n\u001b[0;32m    193\u001b[0m     \u001b[1;32mfor\u001b[0m \u001b[0mvar_name\u001b[0m \u001b[1;32min\u001b[0m \u001b[0msettings_dict\u001b[0m\u001b[1;33m[\u001b[0m\u001b[1;34m'measure_var_list'\u001b[0m\u001b[1;33m]\u001b[0m\u001b[1;33m:\u001b[0m\u001b[1;33m\u001b[0m\u001b[1;33m\u001b[0m\u001b[0m\n",
      "\u001b[1;32m~\\Documents\\Graph statistics\\Perm_GS.py\u001b[0m in \u001b[0;36mget_necessary_data\u001b[1;34m(network_type, TR_type, session_type, selected_file, SubsColName)\u001b[0m\n\u001b[0;32m     29\u001b[0m \u001b[1;33m\u001b[0m\u001b[0m\n\u001b[0;32m     30\u001b[0m     \u001b[1;32mif\u001b[0m\u001b[1;33m(\u001b[0m\u001b[0mTR_type\u001b[0m \u001b[1;33m==\u001b[0m \u001b[1;34m'TR_2890'\u001b[0m\u001b[1;33m)\u001b[0m\u001b[1;33m:\u001b[0m\u001b[1;33m\u001b[0m\u001b[1;33m\u001b[0m\u001b[0m\n\u001b[1;32m---> 31\u001b[1;33m         \u001b[1;32mwith\u001b[0m \u001b[0mopen\u001b[0m\u001b[1;33m(\u001b[0m\u001b[1;34m'data/all_sub_average_motion_2890.pickle'\u001b[0m\u001b[1;33m,\u001b[0m \u001b[1;34m'rb'\u001b[0m\u001b[1;33m)\u001b[0m \u001b[1;32mas\u001b[0m \u001b[0mhandle\u001b[0m\u001b[1;33m:\u001b[0m\u001b[1;33m\u001b[0m\u001b[1;33m\u001b[0m\u001b[0m\n\u001b[0m\u001b[0;32m     32\u001b[0m             \u001b[0mall_sub_average_motion\u001b[0m \u001b[1;33m=\u001b[0m \u001b[0mpickle\u001b[0m\u001b[1;33m.\u001b[0m\u001b[0mload\u001b[0m\u001b[1;33m(\u001b[0m\u001b[0mhandle\u001b[0m\u001b[1;33m)\u001b[0m\u001b[1;33m\u001b[0m\u001b[1;33m\u001b[0m\u001b[0m\n\u001b[0;32m     33\u001b[0m     \u001b[1;32melif\u001b[0m\u001b[1;33m(\u001b[0m\u001b[0mTR_type\u001b[0m \u001b[1;33m==\u001b[0m \u001b[1;34m'TR_1980'\u001b[0m\u001b[1;33m)\u001b[0m\u001b[1;33m:\u001b[0m\u001b[1;33m\u001b[0m\u001b[1;33m\u001b[0m\u001b[0m\n",
      "\u001b[1;31mFileNotFoundError\u001b[0m: [Errno 2] No such file or directory: 'data/all_sub_average_motion_2890.pickle'"
     ]
    }
   ],
   "source": [
    "start = time.time()\n",
    "run_all_comb_stats(settings_dict, settings_dict['measure_file_name'],settings_dict['SubsColName'])\n",
    "end = time.time()"
   ]
  },
  {
   "cell_type": "code",
   "execution_count": null,
   "id": "9531ef3a-803f-4cb4-b7b2-ace30df2a22e",
   "metadata": {},
   "outputs": [],
   "source": []
  }
 ],
 "metadata": {
  "kernelspec": {
   "display_name": "Python 3 (ipykernel)",
   "language": "python",
   "name": "python3"
  },
  "language_info": {
   "codemirror_mode": {
    "name": "ipython",
    "version": 3
   },
   "file_extension": ".py",
   "mimetype": "text/x-python",
   "name": "python",
   "nbconvert_exporter": "python",
   "pygments_lexer": "ipython3",
   "version": "3.7.4"
  }
 },
 "nbformat": 4,
 "nbformat_minor": 5
}
